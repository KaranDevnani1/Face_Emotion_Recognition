{
 "cells": [
  {
   "cell_type": "code",
   "execution_count": 1,
   "id": "19ce7749",
   "metadata": {},
   "outputs": [
    {
     "name": "stdout",
     "output_type": "stream",
     "text": [
      "WARNING:tensorflow:From C:\\Users\\KARAN\\AppData\\Roaming\\Python\\Python39\\site-packages\\keras\\src\\losses.py:2976: The name tf.losses.sparse_softmax_cross_entropy is deprecated. Please use tf.compat.v1.losses.sparse_softmax_cross_entropy instead.\n",
      "\n"
     ]
    }
   ],
   "source": [
    "from keras.utils import to_categorical\n",
    "from keras_preprocessing.image import load_img\n",
    "from keras.models import Sequential\n",
    "from keras.callbacks import EarlyStopping\n",
    "from keras.layers import Dense, Conv2D, Dropout, Flatten, MaxPooling2D\n",
    "import os\n",
    "import pandas as pd\n",
    "import numpy as np"
   ]
  },
  {
   "cell_type": "code",
   "execution_count": 2,
   "id": "02e9c221",
   "metadata": {},
   "outputs": [],
   "source": [
    "TRAIN_DIR = 'images/train'\n",
    "TEST_DIR = 'images/test'"
   ]
  },
  {
   "cell_type": "code",
   "execution_count": 3,
   "id": "ede9c1f1",
   "metadata": {},
   "outputs": [],
   "source": [
    "def createdataframe(dir):\n",
    "    image_paths = []\n",
    "    labels = []\n",
    "    for label in os.listdir(dir):\n",
    "        for imagename in os.listdir(os.path.join(dir,label)):\n",
    "            image_paths.append(os.path.join(dir,label,imagename))\n",
    "            labels.append(label)\n",
    "        print(label, \"completed\")\n",
    "    return image_paths,labels"
   ]
  },
  {
   "cell_type": "code",
   "execution_count": 4,
   "id": "a3a8f1a9",
   "metadata": {},
   "outputs": [
    {
     "name": "stdout",
     "output_type": "stream",
     "text": [
      "angry completed\n",
      "disgust completed\n",
      "fear completed\n",
      "happy completed\n",
      "neutral completed\n",
      "sad completed\n",
      "surprise completed\n"
     ]
    }
   ],
   "source": [
    "train = pd.DataFrame()\n",
    "train['image'], train['label'] = createdataframe(TRAIN_DIR)"
   ]
  },
  {
   "cell_type": "code",
   "execution_count": 18,
   "id": "c8a0cd29",
   "metadata": {},
   "outputs": [
    {
     "name": "stdout",
     "output_type": "stream",
     "text": [
      "                                image     label\n",
      "0            images/train\\angry\\0.jpg     angry\n",
      "1            images/train\\angry\\1.jpg     angry\n",
      "2           images/train\\angry\\10.jpg     angry\n",
      "3        images/train\\angry\\10002.jpg     angry\n",
      "4        images/train\\angry\\10016.jpg     angry\n",
      "...                               ...       ...\n",
      "28816  images/train\\surprise\\9969.jpg  surprise\n",
      "28817  images/train\\surprise\\9985.jpg  surprise\n",
      "28818  images/train\\surprise\\9990.jpg  surprise\n",
      "28819  images/train\\surprise\\9992.jpg  surprise\n",
      "28820  images/train\\surprise\\9996.jpg  surprise\n",
      "\n",
      "[28821 rows x 2 columns]\n"
     ]
    }
   ],
   "source": [
    "print(train)"
   ]
  },
  {
   "cell_type": "code",
   "execution_count": 19,
   "id": "7f9688fc",
   "metadata": {},
   "outputs": [
    {
     "name": "stdout",
     "output_type": "stream",
     "text": [
      "angry completed\n",
      "disgust completed\n",
      "fear completed\n",
      "happy completed\n",
      "neutral completed\n",
      "sad completed\n",
      "surprise completed\n"
     ]
    }
   ],
   "source": [
    "test = pd.DataFrame()\n",
    "test['image'], test['label'] = createdataframe(TEST_DIR)"
   ]
  },
  {
   "cell_type": "code",
   "execution_count": 20,
   "id": "7f504f5d",
   "metadata": {},
   "outputs": [
    {
     "name": "stdout",
     "output_type": "stream",
     "text": [
      "                              image     label\n",
      "0       images/test\\angry\\10052.jpg     angry\n",
      "1       images/test\\angry\\10065.jpg     angry\n",
      "2       images/test\\angry\\10079.jpg     angry\n",
      "3       images/test\\angry\\10095.jpg     angry\n",
      "4       images/test\\angry\\10121.jpg     angry\n",
      "...                             ...       ...\n",
      "7061  images/test\\surprise\\9806.jpg  surprise\n",
      "7062  images/test\\surprise\\9830.jpg  surprise\n",
      "7063  images/test\\surprise\\9853.jpg  surprise\n",
      "7064  images/test\\surprise\\9878.jpg  surprise\n",
      "7065   images/test\\surprise\\993.jpg  surprise\n",
      "\n",
      "[7066 rows x 2 columns]\n",
      "0         images/test\\angry\\10052.jpg\n",
      "1         images/test\\angry\\10065.jpg\n",
      "2         images/test\\angry\\10079.jpg\n",
      "3         images/test\\angry\\10095.jpg\n",
      "4         images/test\\angry\\10121.jpg\n",
      "                    ...              \n",
      "7061    images/test\\surprise\\9806.jpg\n",
      "7062    images/test\\surprise\\9830.jpg\n",
      "7063    images/test\\surprise\\9853.jpg\n",
      "7064    images/test\\surprise\\9878.jpg\n",
      "7065     images/test\\surprise\\993.jpg\n",
      "Name: image, Length: 7066, dtype: object\n"
     ]
    }
   ],
   "source": [
    "print(test)\n",
    "print(test['image'])"
   ]
  },
  {
   "cell_type": "code",
   "execution_count": 21,
   "id": "693324b0",
   "metadata": {},
   "outputs": [],
   "source": [
    "from tqdm.notebook import tqdm"
   ]
  },
  {
   "cell_type": "code",
   "execution_count": 22,
   "id": "f52ccbbe",
   "metadata": {},
   "outputs": [],
   "source": [
    "def extract_features(images):\n",
    "    features = []\n",
    "    for image in tqdm(images):\n",
    "        img = load_img(image,color_mode= \"grayscale\" )\n",
    "        img = np.array(img)\n",
    "        features.append(img)\n",
    "    features = np.array(features)\n",
    "    features = features.reshape(len(features),48,48,1)\n",
    "    return features\n",
    "    "
   ]
  },
  {
   "cell_type": "code",
   "execution_count": 23,
   "id": "942a9d40",
   "metadata": {},
   "outputs": [
    {
     "data": {
      "application/vnd.jupyter.widget-view+json": {
       "model_id": "e661403438ad4325a14bb37186684a50",
       "version_major": 2,
       "version_minor": 0
      },
      "text/plain": [
       "  0%|          | 0/28821 [00:00<?, ?it/s]"
      ]
     },
     "metadata": {},
     "output_type": "display_data"
    }
   ],
   "source": [
    "train_features = extract_features(train['image']) "
   ]
  },
  {
   "cell_type": "code",
   "execution_count": 24,
   "id": "c1b294ed",
   "metadata": {},
   "outputs": [
    {
     "data": {
      "application/vnd.jupyter.widget-view+json": {
       "model_id": "cb50c4c969a74b879fc25fc00a88d317",
       "version_major": 2,
       "version_minor": 0
      },
      "text/plain": [
       "  0%|          | 0/7066 [00:00<?, ?it/s]"
      ]
     },
     "metadata": {},
     "output_type": "display_data"
    }
   ],
   "source": [
    "test_features = extract_features(test['image'])"
   ]
  },
  {
   "cell_type": "code",
   "execution_count": 25,
   "id": "f78b5d34",
   "metadata": {},
   "outputs": [],
   "source": [
    "x_train = train_features/255.0\n",
    "x_test = test_features/255.0"
   ]
  },
  {
   "cell_type": "code",
   "execution_count": 26,
   "id": "c660fca1",
   "metadata": {},
   "outputs": [],
   "source": [
    "from sklearn.preprocessing import LabelEncoder"
   ]
  },
  {
   "cell_type": "code",
   "execution_count": 27,
   "id": "5384a25b",
   "metadata": {},
   "outputs": [
    {
     "data": {
      "text/plain": [
       "LabelEncoder()"
      ]
     },
     "execution_count": 27,
     "metadata": {},
     "output_type": "execute_result"
    }
   ],
   "source": [
    "le = LabelEncoder()\n",
    "le.fit(train['label'])"
   ]
  },
  {
   "cell_type": "code",
   "execution_count": 28,
   "id": "50ece229",
   "metadata": {},
   "outputs": [],
   "source": [
    "y_train = le.transform(train['label'])\n",
    "y_test = le.transform(test['label'])"
   ]
  },
  {
   "cell_type": "code",
   "execution_count": 29,
   "id": "5e284299",
   "metadata": {},
   "outputs": [],
   "source": [
    "y_train = to_categorical(y_train,num_classes = 7)\n",
    "y_test = to_categorical(y_test,num_classes = 7)"
   ]
  },
  {
   "cell_type": "code",
   "execution_count": 30,
   "id": "3977223a",
   "metadata": {},
   "outputs": [],
   "source": [
    "model = Sequential()\n",
    "# convolutional layers\n",
    "model.add(Conv2D(128, kernel_size=(3,3), activation='relu', input_shape=(48,48,1)))\n",
    "model.add(MaxPooling2D(pool_size=(2,2)))\n",
    "model.add(Dropout(0.4))\n",
    "\n",
    "model.add(Conv2D(256, kernel_size=(3,3), activation='relu'))\n",
    "model.add(MaxPooling2D(pool_size=(2,2)))\n",
    "model.add(Dropout(0.4))\n",
    "\n",
    "model.add(Conv2D(512, kernel_size=(3,3), activation='relu'))\n",
    "model.add(MaxPooling2D(pool_size=(2,2)))\n",
    "model.add(Dropout(0.4))\n",
    "\n",
    "model.add(Conv2D(512, kernel_size=(3,3), activation='relu'))\n",
    "model.add(MaxPooling2D(pool_size=(2,2)))\n",
    "model.add(Dropout(0.4))\n",
    "\n",
    "model.add(Flatten())\n",
    "# fully connected layers\n",
    "model.add(Dense(512, activation='relu'))\n",
    "model.add(Dropout(0.4))\n",
    "model.add(Dense(256, activation='relu'))\n",
    "model.add(Dropout(0.3))\n",
    "# output layer\n",
    "model.add(Dense(7, activation='softmax'))"
   ]
  },
  {
   "cell_type": "code",
   "execution_count": 31,
   "id": "de986d6e",
   "metadata": {},
   "outputs": [
    {
     "name": "stdout",
     "output_type": "stream",
     "text": [
      "WARNING:tensorflow:From C:\\Users\\KARAN\\AppData\\Roaming\\Python\\Python39\\site-packages\\keras\\src\\optimizers\\__init__.py:309: The name tf.train.Optimizer is deprecated. Please use tf.compat.v1.train.Optimizer instead.\n",
      "\n"
     ]
    }
   ],
   "source": [
    "model.compile(optimizer = 'adam', loss = 'categorical_crossentropy', metrics = 'accuracy' )"
   ]
  },
  {
   "cell_type": "code",
   "execution_count": 49,
   "id": "5cd0b130",
   "metadata": {
    "scrolled": true
   },
   "outputs": [
    {
     "name": "stdout",
     "output_type": "stream",
     "text": [
      "Epoch 1/100\n",
      "226/226 [==============================] - 756s 3s/step - loss: 1.8225 - accuracy: 0.2446 - val_loss: 1.8119 - val_accuracy: 0.2583\n",
      "Epoch 2/100\n",
      "226/226 [==============================] - 650s 3s/step - loss: 1.8143 - accuracy: 0.2486 - val_loss: 1.8013 - val_accuracy: 0.2583\n",
      "Epoch 3/100\n",
      "226/226 [==============================] - 594s 3s/step - loss: 1.7869 - accuracy: 0.2527 - val_loss: 1.7265 - val_accuracy: 0.2816\n",
      "Epoch 4/100\n",
      "226/226 [==============================] - 598s 3s/step - loss: 1.7142 - accuracy: 0.2937 - val_loss: 1.6280 - val_accuracy: 0.3551\n",
      "Epoch 5/100\n",
      "226/226 [==============================] - 599s 3s/step - loss: 1.6086 - accuracy: 0.3624 - val_loss: 1.5083 - val_accuracy: 0.4277\n",
      "Epoch 6/100\n",
      "226/226 [==============================] - 603s 3s/step - loss: 1.5087 - accuracy: 0.4150 - val_loss: 1.3631 - val_accuracy: 0.4730\n",
      "Epoch 7/100\n",
      "226/226 [==============================] - 618s 3s/step - loss: 1.4414 - accuracy: 0.4409 - val_loss: 1.3100 - val_accuracy: 0.4907\n",
      "Epoch 8/100\n",
      "226/226 [==============================] - 604s 3s/step - loss: 1.4039 - accuracy: 0.4608 - val_loss: 1.2896 - val_accuracy: 0.4982\n",
      "Epoch 9/100\n",
      "226/226 [==============================] - 589s 3s/step - loss: 1.3748 - accuracy: 0.4730 - val_loss: 1.2563 - val_accuracy: 0.5214\n",
      "Epoch 10/100\n",
      "226/226 [==============================] - 618s 3s/step - loss: 1.3402 - accuracy: 0.4842 - val_loss: 1.2281 - val_accuracy: 0.5259\n",
      "Epoch 11/100\n",
      "226/226 [==============================] - 603s 3s/step - loss: 1.3207 - accuracy: 0.4938 - val_loss: 1.2054 - val_accuracy: 0.5392\n",
      "Epoch 12/100\n",
      "226/226 [==============================] - 593s 3s/step - loss: 1.3005 - accuracy: 0.5018 - val_loss: 1.1977 - val_accuracy: 0.5498\n",
      "Epoch 13/100\n",
      "226/226 [==============================] - 594s 3s/step - loss: 1.2813 - accuracy: 0.5074 - val_loss: 1.1797 - val_accuracy: 0.5529\n",
      "Epoch 14/100\n",
      "226/226 [==============================] - 592s 3s/step - loss: 1.2659 - accuracy: 0.5173 - val_loss: 1.1739 - val_accuracy: 0.5524\n",
      "Epoch 15/100\n",
      "226/226 [==============================] - 587s 3s/step - loss: 1.2512 - accuracy: 0.5233 - val_loss: 1.1603 - val_accuracy: 0.5614\n",
      "Epoch 16/100\n",
      "226/226 [==============================] - 593s 3s/step - loss: 1.2434 - accuracy: 0.5283 - val_loss: 1.1536 - val_accuracy: 0.5643\n",
      "Epoch 17/100\n",
      "226/226 [==============================] - 595s 3s/step - loss: 1.2279 - accuracy: 0.5293 - val_loss: 1.1498 - val_accuracy: 0.5676\n",
      "Epoch 18/100\n",
      "226/226 [==============================] - 588s 3s/step - loss: 1.2220 - accuracy: 0.5348 - val_loss: 1.1440 - val_accuracy: 0.5749\n",
      "Epoch 19/100\n",
      "226/226 [==============================] - 590s 3s/step - loss: 1.2018 - accuracy: 0.5409 - val_loss: 1.1255 - val_accuracy: 0.5732\n",
      "Epoch 20/100\n",
      "226/226 [==============================] - 589s 3s/step - loss: 1.1965 - accuracy: 0.5440 - val_loss: 1.1183 - val_accuracy: 0.5743\n",
      "Epoch 21/100\n",
      "226/226 [==============================] - 585s 3s/step - loss: 1.1809 - accuracy: 0.5487 - val_loss: 1.1231 - val_accuracy: 0.5788\n",
      "Epoch 22/100\n",
      "226/226 [==============================] - 637s 3s/step - loss: 1.1776 - accuracy: 0.5502 - val_loss: 1.1182 - val_accuracy: 0.5808\n",
      "Epoch 23/100\n",
      "226/226 [==============================] - 604s 3s/step - loss: 1.1645 - accuracy: 0.5596 - val_loss: 1.1013 - val_accuracy: 0.5882\n",
      "Epoch 24/100\n",
      "226/226 [==============================] - 593s 3s/step - loss: 1.1595 - accuracy: 0.5600 - val_loss: 1.1125 - val_accuracy: 0.5791\n",
      "Epoch 25/100\n",
      "226/226 [==============================] - 605s 3s/step - loss: 1.1531 - accuracy: 0.5626 - val_loss: 1.1026 - val_accuracy: 0.5918\n",
      "Epoch 26/100\n",
      "226/226 [==============================] - 602s 3s/step - loss: 1.1469 - accuracy: 0.5660 - val_loss: 1.0999 - val_accuracy: 0.5883\n",
      "Epoch 27/100\n",
      "226/226 [==============================] - 596s 3s/step - loss: 1.1284 - accuracy: 0.5725 - val_loss: 1.0887 - val_accuracy: 0.5894\n",
      "Epoch 28/100\n",
      "226/226 [==============================] - 604s 3s/step - loss: 1.1350 - accuracy: 0.5693 - val_loss: 1.0871 - val_accuracy: 0.5948\n",
      "Epoch 29/100\n",
      "226/226 [==============================] - 600s 3s/step - loss: 1.1265 - accuracy: 0.5749 - val_loss: 1.0855 - val_accuracy: 0.5933\n",
      "Epoch 30/100\n",
      "226/226 [==============================] - 597s 3s/step - loss: 1.1178 - accuracy: 0.5749 - val_loss: 1.0902 - val_accuracy: 0.5885\n",
      "Epoch 31/100\n",
      "226/226 [==============================] - 628s 3s/step - loss: 1.1080 - accuracy: 0.5808 - val_loss: 1.0823 - val_accuracy: 0.5950\n",
      "Epoch 32/100\n",
      "226/226 [==============================] - 640s 3s/step - loss: 1.1084 - accuracy: 0.5814 - val_loss: 1.0778 - val_accuracy: 0.5944\n",
      "Epoch 33/100\n",
      "226/226 [==============================] - 610s 3s/step - loss: 1.1067 - accuracy: 0.5819 - val_loss: 1.0767 - val_accuracy: 0.5986\n",
      "Epoch 34/100\n",
      "226/226 [==============================] - 600s 3s/step - loss: 1.0953 - accuracy: 0.5834 - val_loss: 1.0676 - val_accuracy: 0.5993\n",
      "Epoch 35/100\n",
      "226/226 [==============================] - 698s 3s/step - loss: 1.0841 - accuracy: 0.5896 - val_loss: 1.0890 - val_accuracy: 0.5971\n",
      "Epoch 36/100\n",
      "226/226 [==============================] - 600s 3s/step - loss: 1.0819 - accuracy: 0.5889 - val_loss: 1.0582 - val_accuracy: 0.6018\n",
      "Epoch 37/100\n",
      "226/226 [==============================] - 627s 3s/step - loss: 1.0639 - accuracy: 0.5999 - val_loss: 1.0599 - val_accuracy: 0.6081\n",
      "Epoch 38/100\n",
      "226/226 [==============================] - 588s 3s/step - loss: 1.0573 - accuracy: 0.5990 - val_loss: 1.0629 - val_accuracy: 0.6033\n",
      "Epoch 39/100\n",
      "226/226 [==============================] - 596s 3s/step - loss: 1.0553 - accuracy: 0.6005 - val_loss: 1.0700 - val_accuracy: 0.5981\n",
      "Epoch 40/100\n",
      "226/226 [==============================] - 589s 3s/step - loss: 1.0528 - accuracy: 0.6023 - val_loss: 1.0674 - val_accuracy: 0.6005\n",
      "Epoch 41/100\n",
      "226/226 [==============================] - 590s 3s/step - loss: 1.0471 - accuracy: 0.6048 - val_loss: 1.0545 - val_accuracy: 0.6070\n",
      "Epoch 42/100\n",
      "226/226 [==============================] - 587s 3s/step - loss: 1.0449 - accuracy: 0.6066 - val_loss: 1.0456 - val_accuracy: 0.6090\n",
      "Epoch 43/100\n",
      "226/226 [==============================] - 590s 3s/step - loss: 1.0413 - accuracy: 0.6057 - val_loss: 1.0454 - val_accuracy: 0.6104\n",
      "Epoch 44/100\n",
      "226/226 [==============================] - 595s 3s/step - loss: 1.0282 - accuracy: 0.6081 - val_loss: 1.0538 - val_accuracy: 0.6084\n",
      "Epoch 45/100\n",
      "226/226 [==============================] - 592s 3s/step - loss: 1.0247 - accuracy: 0.6130 - val_loss: 1.0496 - val_accuracy: 0.6141\n",
      "Epoch 46/100\n",
      "226/226 [==============================] - 587s 3s/step - loss: 1.0203 - accuracy: 0.6172 - val_loss: 1.0487 - val_accuracy: 0.6163\n",
      "Epoch 47/100\n",
      "226/226 [==============================] - 604s 3s/step - loss: 1.0222 - accuracy: 0.6171 - val_loss: 1.0386 - val_accuracy: 0.6148\n",
      "Epoch 48/100\n",
      "226/226 [==============================] - 606s 3s/step - loss: 1.0157 - accuracy: 0.6175 - val_loss: 1.0518 - val_accuracy: 0.6100\n",
      "Epoch 49/100\n",
      "226/226 [==============================] - 654s 3s/step - loss: 1.0048 - accuracy: 0.6217 - val_loss: 1.0355 - val_accuracy: 0.6124\n",
      "Epoch 50/100\n",
      "226/226 [==============================] - 601s 3s/step - loss: 1.0060 - accuracy: 0.6212 - val_loss: 1.0579 - val_accuracy: 0.6070\n",
      "Epoch 51/100\n",
      "226/226 [==============================] - 595s 3s/step - loss: 1.0110 - accuracy: 0.6173 - val_loss: 1.0457 - val_accuracy: 0.6119\n",
      "Epoch 52/100\n",
      "226/226 [==============================] - 624s 3s/step - loss: 0.9890 - accuracy: 0.6287 - val_loss: 1.0471 - val_accuracy: 0.6148\n",
      "Epoch 53/100\n",
      "226/226 [==============================] - 595s 3s/step - loss: 0.9873 - accuracy: 0.6301 - val_loss: 1.0384 - val_accuracy: 0.6125\n",
      "Epoch 54/100\n",
      "226/226 [==============================] - 599s 3s/step - loss: 0.9854 - accuracy: 0.6300 - val_loss: 1.0363 - val_accuracy: 0.6110\n",
      "Epoch 54: early stopping\n"
     ]
    },
    {
     "data": {
      "text/plain": [
       "<keras.src.callbacks.History at 0x16cdaa60520>"
      ]
     },
     "execution_count": 49,
     "metadata": {},
     "output_type": "execute_result"
    }
   ],
   "source": [
    "early_stopping = EarlyStopping(patience=5, verbose=1)\n",
    "model.fit(x_train, y_train, batch_size=128, epochs=100, validation_data=(x_test, y_test), callbacks=[early_stopping]) "
   ]
  },
  {
   "cell_type": "code",
   "execution_count": 1,
   "id": "2b0f1923",
   "metadata": {},
   "outputs": [],
   "source": [
    "model_json = model.to_json()\n",
    "with open(\"Emotiondetection.json\",'w') as json_file:\n",
    "    json_file.write(model_json)\n",
    "model.save(\"Emotiondetection.h5\")"
   ]
  },
  {
   "cell_type": "code",
   "execution_count": 32,
   "id": "46e2098e",
   "metadata": {},
   "outputs": [],
   "source": [
    "from keras.models import model_from_json"
   ]
  },
  {
   "cell_type": "code",
   "execution_count": 33,
   "id": "90703547",
   "metadata": {},
   "outputs": [],
   "source": [
    "json_file = open(\"Emotiondetection.json\", \"r\")\n",
    "model_json = json_file.read()\n",
    "json_file.close()\n",
    "model = model_from_json(model_json)\n",
    "model.load_weights(\"Emotiondetection.h5\")"
   ]
  },
  {
   "cell_type": "code",
   "execution_count": 34,
   "id": "3932bbe8",
   "metadata": {},
   "outputs": [],
   "source": [
    "label = ['angry','disgust','fear','happy','neutral','sad','surprise']"
   ]
  },
  {
   "cell_type": "code",
   "execution_count": 35,
   "id": "b0ccbacf",
   "metadata": {},
   "outputs": [],
   "source": [
    "def ef(image):\n",
    "    img = load_img(image,color_mode= \"grayscale\")\n",
    "    feature = np.array(img)\n",
    "    feature = feature.reshape(1,48,48,1)\n",
    "    return feature/255.0\n",
    "    "
   ]
  },
  {
   "cell_type": "code",
   "execution_count": 25,
   "id": "5882c78e",
   "metadata": {},
   "outputs": [
    {
     "name": "stdout",
     "output_type": "stream",
     "text": [
      "original image is of sad\n",
      "1/1 [==============================] - 20s 20s/step\n",
      "model prediction is  sad\n"
     ]
    }
   ],
   "source": [
    "image = 'images/train/sad/42.jpg'\n",
    "print(\"original image is of sad\")\n",
    "img = ef(image)\n",
    "pred = model.predict(img)\n",
    "pred_label = label[pred.argmax()]\n",
    "print(\"model prediction is \",pred_label)"
   ]
  },
  {
   "cell_type": "code",
   "execution_count": 36,
   "id": "8994206c",
   "metadata": {},
   "outputs": [],
   "source": [
    "import matplotlib.pyplot as plt\n",
    "%matplotlib inline"
   ]
  },
  {
   "cell_type": "code",
   "execution_count": 42,
   "id": "c83af9e1",
   "metadata": {},
   "outputs": [
    {
     "name": "stdout",
     "output_type": "stream",
     "text": [
      "original image is of sad\n",
      "1/1 [==============================] - 0s 55ms/step\n",
      "model prediction is  sad\n"
     ]
    },
    {
     "data": {
      "text/plain": [
       "<matplotlib.image.AxesImage at 0x16abfe14e80>"
      ]
     },
     "execution_count": 42,
     "metadata": {},
     "output_type": "execute_result"
    },
    {
     "data": {
      "image/png": "[encoded data removed]",
      "text/plain": [
       "<Figure size 640x480 with 1 Axes>"
      ]
     },
     "metadata": {},
     "output_type": "display_data"
    }
   ],
   "source": [
    "image = 'images/train/sad/42.jpg'\n",
    "print(\"original image is of sad\")\n",
    "img = ef(image)\n",
    "pred = model.predict(img)\n",
    "pred_label = label[pred.argmax()]\n",
    "print(\"model prediction is \",pred_label)\n",
    "plt.imshow(img.reshape(48,48),cmap='gray')"
   ]
  },
  {
   "cell_type": "code",
   "execution_count": 38,
   "id": "5adb7b7a",
   "metadata": {},
   "outputs": [
    {
     "name": "stdout",
     "output_type": "stream",
     "text": [
      "original image is of fear\n",
      "1/1 [==============================] - 0s 201ms/step\n",
      "model prediction is  sad\n"
     ]
    },
    {
     "data": {
      "text/plain": [
       "<matplotlib.image.AxesImage at 0x151c83a1fd0>"
      ]
     },
     "execution_count": 38,
     "metadata": {},
     "output_type": "execute_result"
    },
    {
     "data": {
      "image/png": "[encoded data removed]",
      "text/plain": [
       "<Figure size 640x480 with 1 Axes>"
      ]
     },
     "metadata": {},
     "output_type": "display_data"
    }
   ],
   "source": [
    "image = 'images/train/fear/2.jpg'\n",
    "print(\"original image is of fear\")\n",
    "img = ef(image)\n",
    "pred = model.predict(img)\n",
    "pred_label = label[pred.argmax()]\n",
    "print(\"model prediction is \",pred_label)\n",
    "plt.imshow(img.reshape(48,48),cmap='gray')"
   ]
  },
  {
   "cell_type": "code",
   "execution_count": 44,
   "id": "e5ea96ba",
   "metadata": {},
   "outputs": [
    {
     "name": "stdout",
     "output_type": "stream",
     "text": [
      "original image is of disgust\n",
      "1/1 [==============================] - 0s 57ms/step\n",
      "model prediction is  disgust\n"
     ]
    },
    {
     "data": {
      "text/plain": [
       "<matplotlib.image.AxesImage at 0x16abfef4d90>"
      ]
     },
     "execution_count": 44,
     "metadata": {},
     "output_type": "execute_result"
    },
    {
     "data": {
      "image/png": "[encoded data removed]",
      "text/plain": [
       "<Figure size 640x480 with 1 Axes>"
      ]
     },
     "metadata": {},
     "output_type": "display_data"
    }
   ],
   "source": [
    "image = 'images/train/disgust/299.jpg'\n",
    "print(\"original image is of disgust\")\n",
    "img = ef(image)\n",
    "pred = model.predict(img)\n",
    "pred_label = label[pred.argmax()]\n",
    "print(\"model prediction is \",pred_label)\n",
    "plt.imshow(img.reshape(48,48),cmap='gray')"
   ]
  },
  {
   "cell_type": "code",
   "execution_count": 45,
   "id": "1c4befa7",
   "metadata": {},
   "outputs": [
    {
     "name": "stdout",
     "output_type": "stream",
     "text": [
      "original image is of happy\n",
      "1/1 [==============================] - 0s 42ms/step\n",
      "model prediction is  happy\n"
     ]
    },
    {
     "data": {
      "text/plain": [
       "<matplotlib.image.AxesImage at 0x16ac00a8970>"
      ]
     },
     "execution_count": 45,
     "metadata": {},
     "output_type": "execute_result"
    },
    {
     "data": {
      "image/png": "[encoded data removed]",
      "text/plain": [
       "<Figure size 640x480 with 1 Axes>"
      ]
     },
     "metadata": {},
     "output_type": "display_data"
    }
   ],
   "source": [
    "image = 'images/train/happy/7.jpg'\n",
    "print(\"original image is of happy\")\n",
    "img = ef(image)\n",
    "pred = model.predict(img)\n",
    "pred_label = label[pred.argmax()]\n",
    "print(\"model prediction is \",pred_label)\n",
    "plt.imshow(img.reshape(48,48),cmap='gray')"
   ]
  },
  {
   "cell_type": "code",
   "execution_count": 46,
   "id": "8d6bb2fa",
   "metadata": {},
   "outputs": [
    {
     "name": "stdout",
     "output_type": "stream",
     "text": [
      "original image is of surprise\n",
      "1/1 [==============================] - 0s 40ms/step\n",
      "model prediction is  surprise\n"
     ]
    },
    {
     "data": {
      "text/plain": [
       "<matplotlib.image.AxesImage at 0x16abfdd6cb0>"
      ]
     },
     "execution_count": 46,
     "metadata": {},
     "output_type": "execute_result"
    },
    {
     "data": {
      "image/png": "[encoded data removed]",
      "text/plain": [
       "<Figure size 640x480 with 1 Axes>"
      ]
     },
     "metadata": {},
     "output_type": "display_data"
    }
   ],
   "source": [
    "image = 'images/train/surprise/15.jpg'\n",
    "print(\"original image is of surprise\")\n",
    "img = ef(image)\n",
    "pred = model.predict(img)\n",
    "pred_label = label[pred.argmax()]\n",
    "print(\"model prediction is \",pred_label)\n",
    "plt.imshow(img.reshape(48,48),cmap='gray')"
   ]
  },
  {
   "cell_type": "code",
   "execution_count": 20,
   "id": "b005764f",
   "metadata": {},
   "outputs": [
    {
     "data": {
      "image/png": "[encoded data removed]",
      "text/plain": [
       "<Figure size 640x480 with 1 Axes>"
      ]
     },
     "metadata": {},
     "output_type": "display_data"
    }
   ],
   "source": [
    "import matplotlib.pyplot as plt\n",
    "\n",
    "# Replace these with your actual train_loss and val_loss values\n",
    "train_loss =[1.8225,1.8143,1.7869,1.7142,1.6086,1.5087,1.4414,1.4039,1.3748,1.3402,1.3207,1.3005,1.2813,1.2659,1.2512,1.2434,1.2279,1.2220,1.2018,1.1965,1.1809,1.1776,1.1645,1.1595,1.1531,1.1469,1.1284,1.1350,1.1265,1.1178,1.1080,1.1084,1.1067,1.0953,1.0841,1.0819,1.0639,1.0573,1.0553,1.0528,1.0471,1.0449,1.0413,1.0282,1.0247,1.0203,1.0222,1.0157,1.0048,1.0060,1.0110,0.9890,0.9873,0.9854]  # List of training loss values\n",
    "val_loss = [1.8119,1.8013,1.7265,1.6280,1.5083,1.3631,1.3100,1.2896,1.2563,1.2281,1.2054,1.1977,1.1797,1.1739,1.1603,1.1536,1.1498,1.1440,1.1255,1.1183,1.1231,1.1182,1.1013,1.1125,1.1026,1.0999,1.0887,1.0871,1.0855,1.0902,1.0823,1.0778,1.0767,1.0676,1.0890,1.0582,1.0599,1.0629,1.0700,1.0674,1.0545,1.0456,1.0454,1.0538,1.0496,1.0487,1.0386,1.0518,1.0355,1.0579,1.0457,1.0471,1.0384,1.0363]  # List of validation loss values\n",
    "\n",
    "epochs = range(1, len(train_loss) + 1)\n",
    "\n",
    "# Plotting\n",
    "plt.plot(epochs, train_loss, label='Training Loss', marker='o')\n",
    "plt.plot(epochs, val_loss, label='Validation Loss', marker='o')\n",
    "plt.title('Training and Validation Loss')\n",
    "plt.xlabel('Epochs')\n",
    "plt.ylabel('Loss')\n",
    "plt.legend()\n",
    "plt.grid(True)\n",
    "plt.show()"
   ]
  },
  {
   "cell_type": "code",
   "execution_count": null,
   "id": "c4ad15e3",
   "metadata": {},
   "outputs": [],
   "source": []
  },
  {
   "cell_type": "code",
   "execution_count": null,
   "id": "1cb5605a",
   "metadata": {},
   "outputs": [],
   "source": []
  },
  {
   "cell_type": "code",
   "execution_count": null,
   "id": "ea1660c2",
   "metadata": {},
   "outputs": [],
   "source": []
  },
  {
   "cell_type": "code",
   "execution_count": null,
   "id": "d9a7c259",
   "metadata": {},
   "outputs": [],
   "source": []
  }
 ],
 "metadata": {
  "kernelspec": {
   "display_name": "Python 3 (ipykernel)",
   "language": "python",
   "name": "python3"
  },
  "language_info": {
   "codemirror_mode": {
    "name": "ipython",
    "version": 3
   },
   "file_extension": ".py",
   "mimetype": "text/x-python",
   "name": "python",
   "nbconvert_exporter": "python",
   "pygments_lexer": "ipython3",
   "version": "3.9.13"
  }
 },
 "nbformat": 4,
 "nbformat_minor": 5
}
